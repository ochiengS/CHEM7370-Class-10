{
 "cells": [
  {
   "cell_type": "markdown",
   "id": "2d04d48e",
   "metadata": {},
   "source": [
    "# CHEM7370 Class 10\n",
    "## Plotting spectra\n",
    "This exercise has been made possible by Professor Paul Ohno, who generously shared the spectral data that we will be analyzing and plotting today.\n",
    "\n",
    "You should have received two data files by email, or downloaded them from Canvas: `BackgroundSpectrum.txt` and `SampleSpectrum.txt` (the filenames explain their contents very well). Did you put them in the `data` subdirectory of your class folder, just like the other data we have been working with? If yes, let's open one of the files and take a look."
   ]
  },
  {
   "cell_type": "code",
   "execution_count": 1,
   "id": "8a3a3202",
   "metadata": {
    "scrolled": false
   },
   "outputs": [
    {
     "name": "stdout",
     "output_type": "stream",
     "text": [
      "time\t20220215_161332\n",
      "start\t528.0 nm\n",
      "stop\t726.0 nm\n",
      "step\t2.0 nm\n",
      "duration\t4 s\n",
      "\n",
      "wl\tpt1\tpt2\tpt3\tpt4\n",
      "528.0\t\t12628.\t12374.\t12283.\t12476.\n",
      "530.0\t18156.\t18164.\t18133.\t18117.\n",
      "532.0\t23233.\t23413.\t23568.\t23130.\n",
      "534.0\t21185.\t21105.\t20909.\t20831.\n",
      "536.0\t\t15084.\t15030.\t15246.\t15357.\n",
      "538.0\t9329.\t9307.\t9232.\t9210.\n",
      "540.0\t4447.\t4353.\t4341.\t4391.\n",
      "542.0\t3946.\t3960.\t3994.\t4105.\n",
      "544.0\t6354.\t6393.\t6623.\t6346.\n",
      "546.0\t9503.\t9372.\t9563.\t9327.\n",
      "548.0\t11424.\t11505.\t11541.\t11266.\n",
      "550.0\t11874.\t11956.\t12029.\t11961.\n",
      "552.0\t\t11144.\t11082.\t11077.\t11028.\n",
      "554.0\t9295.\t9518.\t9477.\t9346.\n",
      "556.0\t7919.\t7800.\t7998.\t8118.\n",
      "558.0\t6842.\t6733.\t6806.\t6904.\n",
      "560.0\t5961.\t5883.\t6043.\t5859.\n",
      "562.0\t5550.\t5275.\t5460.\t5261.\n",
      "564.0\t4893.\t4877.\t4865.\t4981.\n",
      "566.0\t4471.\t4637.\t4620.\t4769.\n",
      "568.0\t4370.\t4481.\t4350.\t4326.\n",
      "570.0\t4182.\t4368.\t4407.\t4249.\n",
      "572.0\t4260.\t4305.\t4313.\t4249.\n",
      "574.0\t6004.\t5976.\t6005.\t6111.\n",
      "576.0\t7998.\t8323.\t8204.\t8124.\n",
      "578.0\t10616.\t10547.\t10296.\t10603.\n",
      "580.0\t11666.\t11898.\t11727.\t11449.\n",
      "582.0\t10495.\t10365.\t10430.\t10328.\n",
      "584.0\t8149.\t8292.\t8174.\t8298.\n",
      "586.0\t5976.\t6216.\t6166.\t6165.\n",
      "588.0\t4289.\t4253.\t4225.\t4305.\n",
      "590.0\t3700.\t3808.\t3848.\t3805.\n",
      "592.0\t3790.\t3615.\t3703.\t3749.\n",
      "594.0\t3841.\t3938.\t3817.\t3946.\n",
      "596.0\t3983.\t4002.\t3958.\t3878.\n",
      "598.0\t4250.\t4421.\t4082.\t4165.\n",
      "600.0\t5991.\t5875.\t5916.\t5926.\n",
      "602.0\t10167.\t10391.\t10289.\t10315.\n",
      "604.0\t\t15348.\t15182.\t15387.\t15224.\n",
      "606.0\t19550.\t19281.\t19561.\t19624.\n",
      "608.0\t20602.\t20456.\t20737.\t20779.\n",
      "610.0\t\t16999.\t17059.\t16851.\t17034.\n",
      "612.0\t12945.\t12819.\t13027.\t12813.\n",
      "614.0\t9083.\t9255.\t9237.\t9130.\n",
      "616.0\t6495.\t6608.\t6423.\t6501.\n",
      "618.0\t6542.\t6470.\t6712.\t6760.\n",
      "620.0\t6811.\t7105.\t6956.\t6913.\n",
      "622.0\t7269.\t7266.\t7293.\t7355.\n",
      "624.0\t7710.\t7640.\t7772.\t7764.\n",
      "626.0\t7928.\t7904.\t8120.\t8053.\n",
      "628.0\t8636.\t8715.\t8617.\t8212.\n",
      "630.0\t9016.\t8963.\t8835.\t8762.\n",
      "632.0\t9360.\t9148.\t9181.\t8824.\n",
      "634.0\t9335.\t9180.\t9181.\t9209.\n",
      "636.0\t9527.\t9595.\t9549.\t9412.\n",
      "638.0\t9353.\t9593.\t9731.\t9530.\n",
      "640.0\t9583.\t9579.\t9533.\t9768.\n",
      "642.0\t9495.\t9629.\t9635.\t9474.\n",
      "644.0\t9427.\t9386.\t9266.\t9299.\n",
      "646.0\t9293.\t9312.\t9151.\t9392.\n",
      "648.0\t9107.\t9304.\t9251.\t9152.\n",
      "650.0\t9085.\t8991.\t8811.\t8947.\n",
      "652.0\t8876.\t8733.\t8826.\t8646.\n",
      "654.0\t8541.\t8374.\t8619.\t8619.\n",
      "656.0\t8527.\t8383.\t8414.\t8289.\n",
      "658.0\t8446.\t8480.\t8243.\t8463.\n",
      "660.0\t8402.\t8263.\t8334.\t8317.\n",
      "662.0\t8333.\t8103.\t8138.\t7946.\n",
      "664.0\t7774.\t7732.\t7678.\t7753.\n",
      "666.0\t7657.\t7585.\t7623.\t7618.\n",
      "668.0\t7403.\t7537.\t7391.\t7521.\n",
      "670.0\t7407.\t7302.\t7396.\t7204.\n",
      "672.0\t7121.\t7222.\t7285.\t7399.\n",
      "674.0\t7075.\t6835.\t6904.\t6962.\n",
      "676.0\t6693.\t6542.\t6759.\t6640.\n",
      "678.0\t6353.\t6342.\t6401.\t6181.\n",
      "680.0\t6047.\t5906.\t6046.\t5957.\n",
      "682.0\t5659.\t5644.\t5776.\t5660.\n",
      "684.0\t5344.\t5238.\t5386.\t5204.\n",
      "686.0\t5178.\t5014.\t4999.\t5165.\n",
      "688.0\t4701.\t4775.\t4797.\t4826.\n",
      "690.0\t4634.\t4537.\t4520.\t4585.\n",
      "692.0\t4172.\t4223.\t4255.\t4237.\n",
      "694.0\t4189.\t4067.\t4039.\t3946.\n",
      "696.0\t3923.\t3890.\t3833.\t3880.\n",
      "698.0\t3709.\t3612.\t3742.\t3636.\n",
      "700.0\t3520.\t3463.\t3539.\t3453.\n",
      "702.0\t3410.\t3379.\t3232.\t3491.\n",
      "704.0\t3096.\t3188.\t3163.\t3142.\n",
      "706.0\t3088.\t3041.\t3152.\t3069.\n",
      "708.0\t2929.\t2954.\t2920.\t2955.\n",
      "710.0\t2806.\t2671.\t2707.\t2746.\n",
      "712.0\t2640.\t2692.\t2674.\t2678.\n",
      "714.0\t2472.\t2408.\t2479.\t2514.\n",
      "716.0\t2379.\t2379.\t2451.\t2320.\n",
      "718.0\t2226.\t2364.\t2325.\t2343.\n",
      "720.0\t2219.\t2326.\t2281.\t2261.\n",
      "722.0\t2163.\t2100.\t2180.\t2229.\n",
      "724.0\t2171.\t2165.\t2069.\t2104.\n",
      "726.0\t2080.\t2035.\t2028.\t1990.\n"
     ]
    }
   ],
   "source": [
    "import os\n",
    "sample_filename = os.path.join('data', 'SampleSpectrum.txt')\n",
    "sample_file = open(sample_filename,\"r\")\n",
    "data = sample_file.readlines()\n",
    "sample_file.close()\n",
    "for line in data:\n",
    "    print(line, end=\"\")  # no need for an extra new line after each line (which already ends in the newline character)"
   ]
  },
  {
   "cell_type": "markdown",
   "id": "8549a9b9",
   "metadata": {},
   "source": [
    "We see that the first 6 lines hold some general information and can be discarded, the seventh line contains headers of the columns, and all the data beyond it are numbers separated by spaces. Therefore, let's put the data into a `numpy` array `sample` and the column headers into a list `headers_sample`."
   ]
  },
  {
   "cell_type": "code",
   "execution_count": null,
   "id": "6315c0e7",
   "metadata": {},
   "outputs": [],
   "source": [
    "import numpy\n",
    "headers_sample = data[6].split()\n",
    "print(headers_sample)\n",
    "sample = numpy.genfromtxt(fname=sample_filename, skip_header=7)\n",
    "print(sample)\n",
    "print(sample.shape)"
   ]
  },
  {
   "cell_type": "markdown",
   "id": "0161cf2a",
   "metadata": {},
   "source": [
    "Professor Ohno told me that he measured each spectrum four times, and the columns `pt1-pt4` contain the results of each measurement, the signal intensities in arbitrary units (the column `wl` lists the wavelengths in nanometers). \n",
    "\n",
    "The first thing we want to do is average the four measured values for each wavelength. Sounds like a job for the `numpy.mean()` function that takes a numpy array and calculates its mean. Let's slice out the four data columns and try to average them:"
   ]
  },
  {
   "cell_type": "code",
   "execution_count": null,
   "id": "e3d8cfd0",
   "metadata": {},
   "outputs": [],
   "source": [
    "avg_sample = numpy.mean(sample[:,1:])\n",
    "print(avg_sample)"
   ]
  },
  {
   "cell_type": "markdown",
   "id": "1da10590",
   "metadata": {},
   "source": [
    "Oops, this didn't work as expected! We averaged too much and calculated a single number that is a mean of *all* measurements at *all* wavelengths. To calculate the mean at each wavelength separately, we need to use the `axis=n` option of `numpy.mean()` that calculates the average along the axis number `n`. \n",
    "\n",
    "Modify the previous cell to produce an array with averaged measurements for one wavelength at a time. While you're at it, you can also compute the standard deviation of the four values using the `numpy.std()` function."
   ]
  },
  {
   "cell_type": "code",
   "execution_count": null,
   "id": "a261a3bb",
   "metadata": {},
   "outputs": [],
   "source": [
    "avg_sample = numpy.mean(sample[:,1:],axis=1)\n",
    "print(avg_sample)\n",
    "std_sample = numpy.std(sample[:,1:],axis=1)\n",
    "print(std_sample)"
   ]
  },
  {
   "cell_type": "markdown",
   "id": "75ab6e3f",
   "metadata": {},
   "source": [
    "Now that we have the spectral intensity and its standard deviation for each wavelength, it is time to `import matplotlib.pyplot as plt` and plot the spectrum. First, let's try using the `plt.plot(x,y)` command that we already know to graph all measured numbers."
   ]
  },
  {
   "cell_type": "code",
   "execution_count": null,
   "id": "acf81568",
   "metadata": {},
   "outputs": [],
   "source": [
    "import matplotlib.pyplot as plt\n",
    "plt.plot(sample[:,0],avg_sample)   # complete this line"
   ]
  },
  {
   "cell_type": "markdown",
   "id": "adae645d",
   "metadata": {},
   "source": [
    "Now, let's try adding the error bars using the slightly more involved function `plt.errorbar(array_x, array_y, yerr=array_errors)`. You may experiment with different plot formats - I particularly like adding the `fmt='none'` option that draws the errorbar lines only, no data points. In any case, you will see that the error bars are very small in the scale of the figure - that was a precise measurement!"
   ]
  },
  {
   "cell_type": "code",
   "execution_count": null,
   "id": "9684360c",
   "metadata": {},
   "outputs": [],
   "source": [
    "plt.errorbar(sample[:,0],avg_sample,yerr=std_sample,fmt='none')  # complete this line"
   ]
  },
  {
   "cell_type": "markdown",
   "id": "ecbe5ada",
   "metadata": {},
   "source": [
    "Let's now prepare and plot the same quantities (the data, their averages, and their standard deviations) for the background spectrum in the `BackgroundSpectrum.txt` data file. Make sure to save the background data under different variable names (let's all use `backgr`, `avg_backgr`, and `std_backgr`) so that we can use both datasets at the same time."
   ]
  },
  {
   "cell_type": "code",
   "execution_count": null,
   "id": "2cb54d23",
   "metadata": {},
   "outputs": [],
   "source": [
    "backgr_filename = os.path.join('data', 'BackgroundSpectrum.txt')\n",
    "backgr = numpy.genfromtxt(fname=backgr_filename, skip_header=7)\n",
    "avg_backgr = numpy.mean(backgr[:,1:],axis=1)\n",
    "std_backgr = numpy.std(backgr[:,1:],axis=1)\n",
    "plt.plot(backgr[:,0],avg_backgr) "
   ]
  },
  {
   "cell_type": "markdown",
   "id": "8ad1e23d",
   "metadata": {},
   "source": [
    "We are getting ready to subtract the background from the sample. Before we do so, let's make sure that both are measured at the same wavelengths. It kind of seemed like the set of wavelengths was the same for both files - let's verify that by checking that two `numpy` arrays are very similar to each other (the values at each place are close). "
   ]
  },
  {
   "cell_type": "code",
   "execution_count": null,
   "id": "fc1fe9be",
   "metadata": {},
   "outputs": [],
   "source": [
    "numpy.allclose(sample[:,0], backgr[:,0])"
   ]
  },
  {
   "cell_type": "markdown",
   "id": "f6cb486d",
   "metadata": {},
   "source": [
    "Fortunately, the sample and the background are measured at exactly the same wavelengths (and in the same order). This means that to subtract the (averaged) background from the (averaged) sample, we just need to subtract two `numpy` arrays - the subtraction will be performed at each position separately."
   ]
  },
  {
   "cell_type": "code",
   "execution_count": null,
   "id": "e3e5179f",
   "metadata": {},
   "outputs": [],
   "source": [
    "signal = avg_sample - avg_backgr\n",
    "print(signal)\n",
    "plt.plot()  # complete this line"
   ]
  },
  {
   "cell_type": "markdown",
   "id": "9e892383",
   "metadata": {},
   "source": [
    "Wow, this background subtraction turned out really helpful! We clearly have one large peak in the spectrum and all those features at small wavelengths have disappeared.\n",
    "\n",
    "Our last task will be to use the `signal` array to calculate the position and width of the spectral line. Let me show how to do so using the `scipy` library (Scientific Python library for advanced operations on `numpy` arrays). Specifically, we will be using the `scipy.optimize.curve_fit()` function for curve fitting, and fit the signal data with a three-parameter Gaussian curve *he<sup>-a(x-x<sub>0</sub>)<sup>2</sup></sup>*, where *h* is the height, *x<sub>0</sub>* is the central point (the position of the peak), and *a* determines the width. \n",
    "\n",
    "The array `p0` specifies the initial guesses for all parameters to `scipy.optimize.curve_fit()` - without specifying `p0`, the initial values for all 3 parameters would be set to `1.0`, and it is quite clear that `1.0` is a REALLY bad guess for either *h* or *x<sub>0</sub>* or *a*. The function you want to fit has to be defined as (yeah, you guessed it) a Python function, with the independent variable `x` as the first argument and the fitted parameters as the next arguments."
   ]
  },
  {
   "cell_type": "code",
   "execution_count": null,
   "id": "b54d3d2f",
   "metadata": {},
   "outputs": [],
   "source": [
    "from scipy.optimize import curve_fit\n",
    "\n",
    "def gaussian(x,x0,a,h):\n",
    "    return h*numpy.exp(-a*(x-x0)*(x-x0))\n",
    "\n",
    "params = curve_fit(gaussian, sample[:,0], signal, p0=[650.0,0.01,7000.0]) \n",
    "# order of initial values in p0 is the same as order of arguments in gaussian(x,...)\n",
    "print(params[0])\n",
    "\n",
    "plt.figure()\n",
    "plt.xlabel('Wavelength')\n",
    "plt.ylabel('Intensity')\n",
    "plt.plot(sample[:,0], signal, label='measured')\n",
    "fitted_data = gaussian(sample[:,0],params[0][0],params[0][1],params[0][2])\n",
    "plt.plot(sample[:,0], fitted_data, label='Gaussian fit')\n",
    "plt.legend()"
   ]
  },
  {
   "cell_type": "markdown",
   "id": "b67eea59",
   "metadata": {},
   "source": [
    "The `scipy` library has a lot of numerical methods implemented, from curve fitting to matrix algebra to integration to signal processing. We will explore some more of its functions soon, but make sure to also take a look at the online `scipy` documentation. For now, let's switch gears and discuss something different - keeping track of different versions of your code."
   ]
  },
  {
   "cell_type": "markdown",
   "id": "e69eb940",
   "metadata": {},
   "source": [
    "# Version control\n",
    "Have you ever been working on a project and wanted to go back to a previous version of the project? Or perhaps you’ve worked on a group project where multiple people were making changes to files and you ended up with multiple versions of multiple files and it was very confusing? Now imagine that you are working on a software project with 5, 10 or even 100 people. Every person would need their own copies of all the code, but it would be very hard to keep up with the changes each person was making and merge them all together. All of these issues can be handled by using *version control* on your project.\n",
    "\n",
    "Version control keeps a complete history of your work on a given project. It facilitates collaboration on projects where everyone can work freely on a part of the project without overriding others’ changes. You can move between past versions and rollback when needed. Also, you can review the history of your project through commit messages that describe changes on the source code and see what exactly has been modified in any given commit. You can see who made the changes and when it happened.\n",
    "\n",
    "This is greatly beneficial whether you are working independently or within a team."
   ]
  },
  {
   "cell_type": "markdown",
   "id": "fcca05d7",
   "metadata": {},
   "source": [
    "## git and GitHub\n",
    "The software package `git` is one of the most popular software packages for version control. GitHub is an online hosting service which hosts the files of many software packages that use `git` so that these packages can be shared with other people. Anyone can use `git` locally for version control without using GitHub. To share your code on GitHub, you must create a GitHub account and profile.\n",
    "\n",
    "Let's first make sure that you have `git` installed in your `class` environment in Anaconda. If not, go ahead and install it! Then, you need to open a terminal where you will configure your `git` installation. In the terminal, navigate (using `cd`) to your class directory and type `conda activate class` to get your `class` environment ready in this terminal."
   ]
  },
  {
   "cell_type": "markdown",
   "id": "208dbe2c",
   "metadata": {},
   "source": [
    "## Configuring Git\n",
    "The first time you use Git on a particular computer, you need to configure some things.\n",
    "\n",
    "First, you should set your identity. One of the most important things that version control like Git does is to keep track of who changes what. This helps repository maintainers coordinate the efforts of all the people who contribute to the project. Most importantly, it makes it easier to figure out who to blame when something goes wrong. To set you identity, *open a Terminal window* and type the following commands:\n",
    "\n",
    "```\n",
    "git config --global user.name \"<Firstname> <Lastname>\"\n",
    "git config --global user.email \"<email address>\"\n",
    "```\n",
    "You will also need to configure a text editor. For example, if you are on Windows and have installed Visual Studio Code, here is how to configure `git` to use it as your text editor.\n",
    "\n",
    "```\n",
    "git config --global core.editor \"code --wait\"\n",
    "```\n",
    "If you are on a Windows and prefer `notepad++` (and have it installed), this is how you can select it:\n",
    "```\n",
    "git config --global core.editor \"'C:/Program Files (x86)/Notepad++/notepad++.exe' -multiInst -notabbar -nosession -noPlugin\"\n",
    "```\n",
    "If you are on a Mac and don't know how to use `vim` (the default option), here is how to switch `git` to use `nano`.\n",
    "```\n",
    "git config --global core.editor \"nano\"\n",
    "```\n",
    "Next configure the credential helper so you don’t have to type your password as often when performing git operations.\n",
    "```\n",
    "git config --global credential.helper cache\n",
    "```\n",
    "After you're done setting these options, type\n",
    "```\n",
    "git config -l\n",
    "```\n",
    "to show a list of all config options that have been set."
   ]
  },
  {
   "cell_type": "markdown",
   "id": "33730289",
   "metadata": {},
   "source": [
    "# Initializing git on your project\n",
    "In `git`, a collection of files related to a specific project is called a *repository*. In the Terminal window, navigate to your class folder. In order for the `git` software to know something is a repository, you have to tell `git` that it is. You can check if you are in a `git` repository already by typing\n",
    "```\n",
    "git status\n",
    "```\n",
    "If you are not in a `git` repository, you should see\n",
    "```\n",
    "fatal: not a git repository (or any of the parent directories): .git\n",
    "```\n",
    "Tell `git` that you would like to create a repository here, in your class folder, and keep a record of your project by typing\n",
    "```\n",
    "git init\n",
    "```\n",
    "After you type this command, `git` will initialize an empty repository. Right now, `git` knows that we have started a project, but it doesn’t know what files to track. `Git` will only track the files you tell it to.\n",
    "\n",
    "You can see the status of your repository by typing\n",
    "```\n",
    "git status\n",
    "```"
   ]
  },
  {
   "cell_type": "markdown",
   "id": "ae7fc2b9",
   "metadata": {},
   "source": [
    "The exact output will vary depending on file names in your directory. This will list all of the files in your repository and tell you that none of them are tracked. This means that `git` sees the files, but is not keeping a record of them or watching them for changes. We want to tell `git` to start watching these files.\n",
    "\n",
    "## git add, git status, git commit\n",
    "Making a commit is like making a checkpoint for a particular version of your code. You can easily return to, or revert to that checkpoint.\n",
    "\n",
    "We might modify many files at a time in a repository. Thus, the first step in creating a checkpoint (or commit) is to tell git which files we want to include in the checkpoint. We do this with a command called `git add`. This adds files to what is called the staging area.\n",
    "\n",
    "When we use a `git status` command, git tells us to use `git add` to include what will be committed. We want to add the file that we worked on today to the staging area by typing\n",
    "\n",
    "```\n",
    "git add Class10.ipynb\n",
    "```\n",
    "When you call `git status`, you will see that the output message has changed. It now tells us we should perform a `commit`.\n",
    "\n",
    "We are now on the second step of creating a commit. We have added our files to the staging area."
   ]
  },
  {
   "cell_type": "markdown",
   "id": "bd385cee",
   "metadata": {},
   "source": [
    "To create the checkpoint, or commit, we will now use the `git commit` command. We add a `-m` after the command for “message.” Whenever you create a commit, you should write a message about what the commit does. If you skip the `-m` option, `git commit` will drop you in a text editor to compose a message.\n",
    "\n",
    "```\n",
    "git commit -m \"add initial project files\"\n",
    "```\n",
    "\n",
    "Every time you make a commit, this is now part of the official record of what is in the repository, so you have to write a commit message telling people what is being added. You can write anything you want in these comments, but the best practice is to write something short but descriptive about the files that are being added or changed. Even if you think no one else is ever going to use your code, writing good commit messages is a great way to remind yourself of what you have done in the past. It is good practice for these to be descriptive rather than general, so a message like “Add function for calculating bond lengths” is much better than something non-descriptive like “Commit #5.”\n",
    "\n",
    "Now when you type `git status` it should say “nothing added to commit but untracked files present”. This means that no changes have been made to your tracked file since your last checkpoint or commit, and the other files in your class folder are not tracked."
   ]
  },
  {
   "cell_type": "markdown",
   "id": "8f613178",
   "metadata": {},
   "source": [
    "Let’s make and track one more change to our repository. Open the first cell with code and add a docstring at the top of the file.\n",
    "```\n",
    "\"\"\"\n",
    "This code subtracts the background and locates the peak position in Dr. Ohno's spectrum.\n",
    "\"\"\"\n",
    "```\n",
    "Save this change and commit it.\n",
    "\n",
    "First, we will do a `git status`. Then, to create a checkpoint with the new version, type\n",
    "```\n",
    "git add Class10.ipynb\n",
    "git commit -m \"add docstring to Class10.ipynb\"\n",
    "```"
   ]
  },
  {
   "cell_type": "markdown",
   "id": "e0580573",
   "metadata": {},
   "source": [
    "## The `git log` command\n",
    "Git creates a history of our project, but how do we see or use that history? You can see a history of commits using the `git log` command.\n",
    "\n",
    "Each line of this log tells you something important about the commit, or check point that exists for the project. On the first line,\n",
    "\n",
    "```\n",
    "commit adf1dcc0bf88a4971f37edecd80ee25d544c6a6b (HEAD -> master)\n",
    "```\n",
    "\n",
    "You have a unique identifier for the commit (`adf1d...`). You can use this number to reference this checkpoint.\n",
    "\n",
    "Then, git records the name of the author who made the change.\n",
    "\n",
    "```\n",
    "Author: Your Name <your_email_address@something.com>\n",
    "```\n",
    "This should be your information. This way, anyone who downloads this project can see who made each commit. Note that this name and email address matches what you specified when you configured git in the setup.\n",
    "\n",
    "```\n",
    "Date:   Sat Feb 18 22:20:37 2023 -0500\n",
    "```\n",
    "Next, it lists the date and time the commit was made.\n",
    "\n",
    "```\n",
    "add initial project files\n",
    "```\n",
    "\n",
    "Finally, there will be a blank line followed by a commit message. The commit message is a message whoever made the commit chose to write, but should describe the change that took place when the commit was made.\n",
    "\n",
    "`git log` shows a history of commits to our repository, and they will all have the same format discussed above. Notice that commits are in reverse chronological order, with the most recent change listed first.\n"
   ]
  },
  {
   "cell_type": "markdown",
   "id": "d7c0120c",
   "metadata": {},
   "source": [
    "## Viewing changes\n",
    "If you want to see what changed between commits, use the command\n",
    "\n",
    "```\n",
    "git diff COMMIT_ID_1 COMMIT_ID_2\n",
    "```\n",
    "\n",
    "Let’s do this for our last commit. We will compare the version at commit 2 to commit 1. You can quickly see commit ids using the command\n",
    "\n",
    "```\n",
    "git log --oneline\n",
    "adf1dcc (HEAD -> master) Tiny change because notebook updated.\n",
    "5fca176 add initial project files\n",
    "```\n",
    "We will compare these two commit IDs\n",
    "\n",
    "```\n",
    "git diff adf1dcc 5fca176\n",
    "```\n",
    "\n",
    "The `+` next to lines tells us that those lines were added from commit 1 to commit 2. If any lines had been deleted, they would appear with a `-` sign next to them."
   ]
  },
  {
   "cell_type": "markdown",
   "id": "0e2f1c0a",
   "metadata": {},
   "source": [
    "## Checkout and view previous versions\n",
    "If you need to revert to a previous version\n",
    "\n",
    "```\n",
    "git checkout COMMIT_ID\n",
    "```\n",
    "This will temporarily revert the repository to whatever the state was at the specified commit ID.\n",
    "\n",
    "Let’s checkout the version before we made the most recent edit to `Class10.ipynb`. You will get your commit ID from `git log`.\n",
    "\n",
    "```\n",
    "git checkout 707b644\n",
    "```\n",
    "If you now reopen and view the file `Class10.ipynb`, it is the previous version of the file.\n",
    "\n",
    "To return to the most recent point,\n",
    "\n",
    "```\n",
    "git checkout master\n",
    "```"
   ]
  },
  {
   "cell_type": "markdown",
   "id": "50d12944",
   "metadata": {},
   "source": [
    "## More Tutorials\n",
    "If you want to learn more functions of `git`, see the following tutorials.\n",
    "\n",
    "[Software Carpentry Version Control with Git](https://swcarpentry.github.io/git-novice/)\n",
    "\n",
    "[GitHub 15 Minutes to Learn Git](https://docs.github.com/en/get-started/quickstart/set-up-git)\n",
    "\n",
    "[Git Commit Best Practices](https://github.com/trein/dev-best-practices/wiki/Git-Commit-Best-Practices)"
   ]
  }
 ],
 "metadata": {
  "kernelspec": {
   "display_name": "Python 3 (ipykernel)",
   "language": "python",
   "name": "python3"
  },
  "language_info": {
   "codemirror_mode": {
    "name": "ipython",
    "version": 3
   },
   "file_extension": ".py",
   "mimetype": "text/x-python",
   "name": "python",
   "nbconvert_exporter": "python",
   "pygments_lexer": "ipython3",
   "version": "3.9.15"
  }
 },
 "nbformat": 4,
 "nbformat_minor": 5
}
